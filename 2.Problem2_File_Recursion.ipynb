{
 "cells": [
  {
   "cell_type": "code",
   "execution_count": 1,
   "id": "8c614c78",
   "metadata": {},
   "outputs": [],
   "source": [
    "import pandas as pd \n",
    "import os"
   ]
  },
  {
   "cell_type": "markdown",
   "id": "a7e8d7b5",
   "metadata": {},
   "source": [
    "## OS Module Exploration Code"
   ]
  },
  {
   "cell_type": "code",
   "execution_count": 2,
   "id": "329f5040",
   "metadata": {},
   "outputs": [
    {
     "name": "stdout",
     "output_type": "stream",
     "text": [
      "['2.Problem2_File_Recursion.ipynb', '6.Problem6_Union_and_Intersection_of_Linked_lists.ipynb', '3.Problem3_Huffman_codding.ipynb', '1.Problem1_LRU_Cache.ipynb', '4.Problem4_Active_directory.ipynb', '5.Problem5_Blockchain.ipynb', '.ipynb_checkpoints']\n",
      "False\n",
      "True\n"
     ]
    }
   ],
   "source": [
    "### Locally save and call this file ex.py ##\n",
    "\n",
    "## Code to demonstrate the use of some of the OS modules in python\n",
    "\n",
    "import os\n",
    "\n",
    "## Let us print the files in the directory in which you are running this script\n",
    "print (os.listdir(\".\"))\n",
    "\n",
    "## Let us check if this file is indeed a file!\n",
    "print (os.path.isfile(\"./ex.py\"))\n",
    "\n",
    "## Does the file end with .py?\n",
    "print (\"./ex.py\".endswith(\".py\"))\n"
   ]
  },
  {
   "cell_type": "code",
   "execution_count": 3,
   "id": "f80485a4",
   "metadata": {},
   "outputs": [
    {
     "name": "stdout",
     "output_type": "stream",
     "text": [
      "True\n"
     ]
    }
   ],
   "source": [
    "## Does the file end with .py?\n",
    "print (\"./ex.ipynb\".endswith(\".ipynb\"))"
   ]
  },
  {
   "cell_type": "code",
   "execution_count": 4,
   "id": "8a27c1d8",
   "metadata": {},
   "outputs": [
    {
     "name": "stdout",
     "output_type": "stream",
     "text": [
      "2.Problem2_File_Recursion.ipynb\n",
      "6.Problem6_Union_and_Intersection_of_Linked_lists.ipynb\n",
      "3.Problem3_Huffman_codding.ipynb\n",
      "1.Problem1_LRU_Cache.ipynb\n",
      "4.Problem4_Active_directory.ipynb\n",
      "5.Problem5_Blockchain.ipynb\n",
      "false\n"
     ]
    }
   ],
   "source": [
    "for File in os.listdir(\".\"):\n",
    "    if os.path.isfile(File):\n",
    "        print(File)\n",
    "    else:\n",
    "        print(\"false\")"
   ]
  },
  {
   "cell_type": "code",
   "execution_count": 5,
   "id": "f43b911a",
   "metadata": {},
   "outputs": [
    {
     "name": "stdout",
     "output_type": "stream",
     "text": [
      "true\n",
      "true\n",
      "true\n",
      "true\n",
      "true\n",
      "true\n",
      "false\n"
     ]
    }
   ],
   "source": [
    "for File in os.listdir(\".\"):\n",
    "    if File.endswith(\".ipynb\"):\n",
    "        print(\"true\")\n",
    "    else:\n",
    "        print(\"false\")"
   ]
  },
  {
   "cell_type": "code",
   "execution_count": 6,
   "id": "b9e70c2f",
   "metadata": {},
   "outputs": [
    {
     "name": "stdout",
     "output_type": "stream",
     "text": [
      "false\n",
      "false\n",
      "false\n",
      "false\n",
      "false\n",
      "false\n",
      "true\n"
     ]
    }
   ],
   "source": [
    "for File in os.listdir(\".\"):\n",
    "    if os.path.isdir(File):\n",
    "        print(\"true\")\n",
    "    else:\n",
    "        print(\"false\")"
   ]
  },
  {
   "cell_type": "code",
   "execution_count": null,
   "id": "fa8035a8",
   "metadata": {},
   "outputs": [],
   "source": []
  },
  {
   "cell_type": "code",
   "execution_count": 7,
   "id": "c2c62b50",
   "metadata": {},
   "outputs": [
    {
     "name": "stdout",
     "output_type": "stream",
     "text": [
      "/Users/katerynaisaieva/Desktop/Nanodegree_Projects/Algorytms_Datastructures_Nanodegree/Project2_datastructures/Final\n",
      "/Users/katerynaisaieva/Desktop/Nanodegree_Projects/Algorytms_Datastructures_Nanodegree/Project2_datastructures/Final\n",
      "/Users/katerynaisaieva/Desktop/Nanodegree_Projects/Algorytms_Datastructures_Nanodegree/Project2_datastructures/Final\n",
      "/Users/katerynaisaieva/Desktop/Nanodegree_Projects/Algorytms_Datastructures_Nanodegree/Project2_datastructures/Final\n",
      "/Users/katerynaisaieva/Desktop/Nanodegree_Projects/Algorytms_Datastructures_Nanodegree/Project2_datastructures/Final\n",
      "/Users/katerynaisaieva/Desktop/Nanodegree_Projects/Algorytms_Datastructures_Nanodegree/Project2_datastructures/Final\n",
      "false\n"
     ]
    }
   ],
   "source": [
    "for File in os.listdir(\".\"):\n",
    "    if os.path.isfile(File):\n",
    "        print(os.path.dirname(os.path.realpath(File)))\n",
    "    else:\n",
    "        print(\"false\")\n"
   ]
  },
  {
   "cell_type": "code",
   "execution_count": 8,
   "id": "39897922",
   "metadata": {},
   "outputs": [
    {
     "data": {
      "text/plain": [
       "'/Algorytms_Datastructures_Nanodegree/Project2_datastructures/Problem1_LRU_Cache/test'"
      ]
     },
     "execution_count": 8,
     "metadata": {},
     "output_type": "execute_result"
    }
   ],
   "source": [
    "os.path.join(\"/Algorytms_Datastructures_Nanodegree/Project2_datastructures/Problem1_LRU_Cache\",\"test\")"
   ]
  },
  {
   "cell_type": "code",
   "execution_count": 10,
   "id": "fd5db80f",
   "metadata": {},
   "outputs": [
    {
     "name": "stdout",
     "output_type": "stream",
     "text": [
      ".DS_Store\n",
      "subdir4\n",
      "it is directory\n",
      "subdir3\n",
      "it is directory\n",
      "t1.c\n",
      "subdir2\n",
      "it is directory\n",
      "subdir5\n",
      "it is directory\n",
      "t1.h\n",
      "subdir1\n",
      "it is directory\n"
     ]
    }
   ],
   "source": [
    "# Path \n",
    "test_path = '/Users/katerynaisaieva/Desktop/Nanodegree_Projects/Algorytms_Datastructures_Nanodegree/Project2_datastructures/Problem2_File_Recursion/testdir/'\n",
    "  \n",
    "# Get the directory name   \n",
    "# from the specified path \n",
    "\n",
    "#dirname = os.path.dirname(test_path) \n",
    "\n",
    "for File in os.listdir(test_path):\n",
    "    print(File)\n",
    "    if  os.path.isdir(os.path.join(test_path,File)):\n",
    "        print('it is directory')\n",
    "  \n",
    "# Print the directory name   \n",
    "# print(dirname) "
   ]
  },
  {
   "cell_type": "markdown",
   "id": "4dc5fdbd",
   "metadata": {},
   "source": [
    "## Explanation"
   ]
  },
  {
   "cell_type": "markdown",
   "id": "6bc73e32",
   "metadata": {},
   "source": [
    "- For implementing efficient search function I used recursion. It goes deep into all directories one by one in a top down manner and:\n",
    "<br> 1. print out all paths of all searched files\n",
    "<br> 2. and then gows into each directory if it exists and recursivally does the same steps 1. and 2. until all is checked"
   ]
  },
  {
   "cell_type": "markdown",
   "id": "8351c7e5",
   "metadata": {},
   "source": [
    "### Time and Space Efficiency:\n",
    "\n",
    "#### Key answer: Linear Time Complexity and Constant Space efficiency\n",
    "\n",
    "1. TIme efficiency. Traversal Time: The implemented search function efficiently traverses the directory tree in a top-down manner. It explores each directory and its subdirectories in a depth-first fashion.\n",
    "<br> => Linear Time Complexity: The time complexity is generally O(n), where n is the total number of files and directories in the tree. It visits each file and directory once.\n",
    "\n",
    "\n",
    "2. Space efficiency. Memory Usage:  The implemented search functionis memory-efficient as it doesn't load the entire directory tree into memory at once. Instead, it returns a generator object that yields a tuple for each directory it visits. The tuple contains the current directory, a list of its subdirectories, and a list of its files.\n",
    "<br> => Constant Space Overhead: The memory used by  implemented search function is proportional to the depth of the directory tree, not the total number of files. The generator ensures that only a small portion of the directory tree is loaded into memory at any given time.\n",
    "\n",
    "<br> In summary,  implemented search function is generally considered both time and space-efficient. It is well-suited for efficiently processing directory trees of various sizes, and its memory usage is optimized by yielding results incrementally. \n",
    "\n",
    "<br> PS. However, the efficiency depends on the underlying file system and the size of the directory tree being traversed."
   ]
  },
  {
   "cell_type": "code",
   "execution_count": 11,
   "id": "22c2abfc",
   "metadata": {},
   "outputs": [],
   "source": [
    "def find_files(suffix, path):\n",
    "    \"\"\"\n",
    "    Find all files beneath path with file name suffix.\n",
    "\n",
    "    Note that a path may contain further subdirectories\n",
    "    and those subdirectories may also contain further subdirectories.\n",
    "\n",
    "    There are no limit to the depth of the subdirectories can be.\n",
    "\n",
    "    Args:\n",
    "      suffix(str): suffix if the file name to be found\n",
    "      path(str): path of the file system\n",
    "\n",
    "    Returns:\n",
    "       a list of paths\n",
    "    \"\"\"\n",
    "    \n",
    "    path = path\n",
    "    suffix = suffix\n",
    "    \n",
    "    \n",
    "    #recurtion\n",
    "    for File in os.listdir(path):\n",
    "        if  File.endswith(\".\"+suffix)== True: \n",
    "            print(os.path.join(path))\n",
    "        \n",
    "        if  os.path.isdir(os.path.join(path,File)): \n",
    "            sub_path = os.path.join(path,File)\n",
    "            find_files(suffix='c',path=sub_path)\n",
    "    \n",
    "    \n",
    "    return None\n",
    "\n"
   ]
  },
  {
   "cell_type": "code",
   "execution_count": 12,
   "id": "b1c5fa3b",
   "metadata": {},
   "outputs": [
    {
     "name": "stdout",
     "output_type": "stream",
     "text": [
      "/Users/katerynaisaieva/Desktop/Nanodegree_Projects/Algorytms_Datastructures_Nanodegree/Project2_datastructures/Problem2_File_Recursion/testdir/subdir3/subsubdir1\n",
      "/Users/katerynaisaieva/Desktop/Nanodegree_Projects/Algorytms_Datastructures_Nanodegree/Project2_datastructures/Problem2_File_Recursion/testdir/\n",
      "/Users/katerynaisaieva/Desktop/Nanodegree_Projects/Algorytms_Datastructures_Nanodegree/Project2_datastructures/Problem2_File_Recursion/testdir/subdir5\n",
      "/Users/katerynaisaieva/Desktop/Nanodegree_Projects/Algorytms_Datastructures_Nanodegree/Project2_datastructures/Problem2_File_Recursion/testdir/subdir1\n"
     ]
    }
   ],
   "source": [
    "## Test Case 1\n",
    "\n",
    "find_files(suffix = 'c', path= '/Users/katerynaisaieva/Desktop/Nanodegree_Projects/Algorytms_Datastructures_Nanodegree/Project2_datastructures/Problem2_File_Recursion/testdir/')\n",
    "\n"
   ]
  },
  {
   "cell_type": "code",
   "execution_count": null,
   "id": "d404b6cc",
   "metadata": {},
   "outputs": [],
   "source": [
    "## Test Case 2\n",
    "\n",
    "find_files(suffix = '', path= '/Users/katerynaisaieva/Desktop/Nanodegree_Projects/Algorytms_Datastructures_Nanodegree/Project2_datastructures/Problem2_File_Recursion/testdir/')\n",
    "\n"
   ]
  },
  {
   "cell_type": "code",
   "execution_count": null,
   "id": "28fb705f",
   "metadata": {},
   "outputs": [],
   "source": [
    "## Test Case 3 (Empty)\n",
    "\n",
    "find_files(suffix = 'c', path= '/Users/katerynaisaieva/Desktop/Nanodegree_Projects/Algorytms_Datastructures_Nanodegree/Project2_datastructures/Problem2_File_Recursion/testdir/subdir2')\n",
    "\n"
   ]
  }
 ],
 "metadata": {
  "hide_input": false,
  "kernelspec": {
   "display_name": "Python 3 (ipykernel)",
   "language": "python",
   "name": "python3"
  },
  "language_info": {
   "codemirror_mode": {
    "name": "ipython",
    "version": 3
   },
   "file_extension": ".py",
   "mimetype": "text/x-python",
   "name": "python",
   "nbconvert_exporter": "python",
   "pygments_lexer": "ipython3",
   "version": "3.9.7"
  },
  "varInspector": {
   "cols": {
    "lenName": 16,
    "lenType": 16,
    "lenVar": 40
   },
   "kernels_config": {
    "python": {
     "delete_cmd_postfix": "",
     "delete_cmd_prefix": "del ",
     "library": "var_list.py",
     "varRefreshCmd": "print(var_dic_list())"
    },
    "r": {
     "delete_cmd_postfix": ") ",
     "delete_cmd_prefix": "rm(",
     "library": "var_list.r",
     "varRefreshCmd": "cat(var_dic_list()) "
    }
   },
   "types_to_exclude": [
    "module",
    "function",
    "builtin_function_or_method",
    "instance",
    "_Feature"
   ],
   "window_display": false
  }
 },
 "nbformat": 4,
 "nbformat_minor": 5
}
