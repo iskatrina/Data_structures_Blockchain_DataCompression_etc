{
 "cells": [
  {
   "cell_type": "code",
   "execution_count": 22,
   "id": "d66ba7cc",
   "metadata": {},
   "outputs": [],
   "source": [
    "import pandas as pd \n",
    "import time"
   ]
  },
  {
   "cell_type": "markdown",
   "id": "89ff9e0e",
   "metadata": {},
   "source": [
    "-  For implementing data structure Least Recently Used (LRU) Cashe I designed a class where object is dictinary(hash map) and it has 2 functions which returns and insert item with O(1) time efficiency, since look up in Hash map is constant time O(1).\n",
    "\n",
    "- Space efficiency in current example with the size of LRU as 5 is constant. With size of LRU Cache growing, I expeft it to be space efficiency = n\n"
   ]
  },
  {
   "cell_type": "code",
   "execution_count": 23,
   "id": "2f89ace4",
   "metadata": {},
   "outputs": [],
   "source": [
    "\n",
    "class LRU_Cache(object):\n",
    "\n",
    "    def __init__(self, capacity):\n",
    "        # Initialize class variables\n",
    "        self.cache = {}\n",
    "        self.size = capacity\n",
    "        self.usage = {}                \n",
    "\n",
    "\n",
    "    def get(self, key):\n",
    "        # Retrieve item from provided key. Return -1 if nonexistent.         \n",
    "        if key in self.cache:\n",
    "            return self.cache[key]\n",
    "        \n",
    "        else:\n",
    "            return -1\n",
    "\n",
    "    def set(self, key, value):\n",
    "        # Set the value if the key is not present in the cache. If the cache is at capacity remove the oldest item.\n",
    "        if key in self.cache:\n",
    "            pass\n",
    "        elif len(self.cache) < self.size:\n",
    "            self.cache[key] = value\n",
    "            self.usage[key] = time.time()\n",
    "        else:\n",
    "            #remove the oldest item\n",
    "            oldest_key = min(self.usage, key=self.usage.get)\n",
    "            self.cache.pop(oldest_key)\n",
    "            self.usage.pop(oldest_key)\n",
    "            self.cache[key] = value\n",
    "            self.usage[key] = time.time()\n",
    "               \n",
    " \n"
   ]
  },
  {
   "cell_type": "markdown",
   "id": "5bf451fb",
   "metadata": {},
   "source": [
    "## Testing:"
   ]
  },
  {
   "cell_type": "code",
   "execution_count": 24,
   "id": "bbc287ba",
   "metadata": {},
   "outputs": [],
   "source": [
    "our_cache = LRU_Cache(5)\n"
   ]
  },
  {
   "cell_type": "code",
   "execution_count": 42,
   "id": "53ed13ac",
   "metadata": {},
   "outputs": [
    {
     "name": "stdout",
     "output_type": "stream",
     "text": [
      "-1\n"
     ]
    }
   ],
   "source": [
    "## Test Case0\n",
    "print(our_cache.get(1)) #returns -1 since its empty"
   ]
  },
  {
   "cell_type": "code",
   "execution_count": null,
   "id": "6604f99d",
   "metadata": {},
   "outputs": [],
   "source": [
    "\n",
    "our_cache.set(1, 1);\n",
    "our_cache.set(2, 2);\n",
    "our_cache.set(3, 3);\n",
    "our_cache.set(4, 4);"
   ]
  },
  {
   "cell_type": "code",
   "execution_count": 25,
   "id": "967026f8",
   "metadata": {},
   "outputs": [
    {
     "data": {
      "text/plain": [
       "1"
      ]
     },
     "execution_count": 25,
     "metadata": {},
     "output_type": "execute_result"
    }
   ],
   "source": [
    "our_cache.get(1)       # returns 1"
   ]
  },
  {
   "cell_type": "code",
   "execution_count": 26,
   "id": "be6c9929",
   "metadata": {},
   "outputs": [
    {
     "name": "stdout",
     "output_type": "stream",
     "text": [
      "1 1\n",
      "2 2\n",
      "3 3\n",
      "4 4\n"
     ]
    }
   ],
   "source": [
    "for k, v in our_cache.cache.items(): \n",
    "    print(k, v)"
   ]
  },
  {
   "cell_type": "code",
   "execution_count": 27,
   "id": "0bdcb665",
   "metadata": {},
   "outputs": [
    {
     "data": {
      "text/plain": [
       "2"
      ]
     },
     "execution_count": 27,
     "metadata": {},
     "output_type": "execute_result"
    }
   ],
   "source": [
    "our_cache.get(2)       # returns 2"
   ]
  },
  {
   "cell_type": "code",
   "execution_count": 28,
   "id": "8642b228",
   "metadata": {},
   "outputs": [
    {
     "data": {
      "text/plain": [
       "-1"
      ]
     },
     "execution_count": 28,
     "metadata": {},
     "output_type": "execute_result"
    }
   ],
   "source": [
    "our_cache.get(9)      # returns -1 because 9 is not present in the cache"
   ]
  },
  {
   "cell_type": "code",
   "execution_count": 29,
   "id": "ce3c6bf6",
   "metadata": {},
   "outputs": [
    {
     "data": {
      "text/plain": [
       "5"
      ]
     },
     "execution_count": 29,
     "metadata": {},
     "output_type": "execute_result"
    }
   ],
   "source": [
    "our_cache.size"
   ]
  },
  {
   "cell_type": "code",
   "execution_count": 30,
   "id": "5aeacbe5",
   "metadata": {},
   "outputs": [],
   "source": [
    "our_cache.set(5, 5) "
   ]
  },
  {
   "cell_type": "code",
   "execution_count": 31,
   "id": "7834a89e",
   "metadata": {},
   "outputs": [
    {
     "name": "stdout",
     "output_type": "stream",
     "text": [
      "1 1\n",
      "2 2\n",
      "3 3\n",
      "4 4\n",
      "5 5\n"
     ]
    }
   ],
   "source": [
    "for k, v in our_cache.cache.items(): \n",
    "    print(k, v)"
   ]
  },
  {
   "cell_type": "code",
   "execution_count": 32,
   "id": "1dae8da1",
   "metadata": {},
   "outputs": [],
   "source": [
    "our_cache.set(6, 6)"
   ]
  },
  {
   "cell_type": "code",
   "execution_count": 33,
   "id": "f5da133c",
   "metadata": {},
   "outputs": [
    {
     "name": "stdout",
     "output_type": "stream",
     "text": [
      "2 2\n",
      "3 3\n",
      "4 4\n",
      "5 5\n",
      "6 6\n"
     ]
    }
   ],
   "source": [
    "for k, v in our_cache.cache.items(): \n",
    "    print(k, v)"
   ]
  },
  {
   "cell_type": "code",
   "execution_count": 34,
   "id": "2c779a78",
   "metadata": {},
   "outputs": [
    {
     "data": {
      "text/plain": [
       "3"
      ]
     },
     "execution_count": 34,
     "metadata": {},
     "output_type": "execute_result"
    }
   ],
   "source": [
    "our_cache.get(3)  "
   ]
  },
  {
   "cell_type": "code",
   "execution_count": 35,
   "id": "b0e9f065",
   "metadata": {},
   "outputs": [
    {
     "data": {
      "text/plain": [
       "6"
      ]
     },
     "execution_count": 35,
     "metadata": {},
     "output_type": "execute_result"
    }
   ],
   "source": [
    "## Add your own test cases: include at least three test cases\n",
    "## and two of them must include edge cases, such as null, empty or very large values\n",
    "\n",
    "## Test Case 1\n",
    "\n",
    "our_cache.set(21, 21)\n",
    "our_cache.get(6) # returns 6"
   ]
  },
  {
   "cell_type": "code",
   "execution_count": 36,
   "id": "31657b2a",
   "metadata": {},
   "outputs": [
    {
     "name": "stdout",
     "output_type": "stream",
     "text": [
      "3 3\n",
      "4 4\n",
      "5 5\n",
      "6 6\n",
      "21 21\n"
     ]
    }
   ],
   "source": [
    "for k, v in our_cache.cache.items(): \n",
    "    print(k, v)"
   ]
  },
  {
   "cell_type": "code",
   "execution_count": 37,
   "id": "14996224",
   "metadata": {},
   "outputs": [
    {
     "data": {
      "text/plain": [
       "21"
      ]
     },
     "execution_count": 37,
     "metadata": {},
     "output_type": "execute_result"
    }
   ],
   "source": [
    "## Test Case 2\n",
    "our_cache.set(11, 11) \n",
    "our_cache.get(21) # returns 21"
   ]
  },
  {
   "cell_type": "code",
   "execution_count": 38,
   "id": "ef5f1ff6",
   "metadata": {},
   "outputs": [
    {
     "name": "stdout",
     "output_type": "stream",
     "text": [
      "4 4\n",
      "5 5\n",
      "6 6\n",
      "21 21\n",
      "11 11\n"
     ]
    }
   ],
   "source": [
    "for k, v in our_cache.cache.items(): \n",
    "    print(k, v)"
   ]
  },
  {
   "cell_type": "code",
   "execution_count": 39,
   "id": "2657e30b",
   "metadata": {},
   "outputs": [
    {
     "data": {
      "text/plain": [
       "-1"
      ]
     },
     "execution_count": 39,
     "metadata": {},
     "output_type": "execute_result"
    }
   ],
   "source": [
    "## Test Case 3\n",
    "our_cache.set(11, 11) \n",
    "our_cache.get(2) # returns -1"
   ]
  },
  {
   "cell_type": "code",
   "execution_count": 40,
   "id": "63dd6c43",
   "metadata": {},
   "outputs": [
    {
     "name": "stdout",
     "output_type": "stream",
     "text": [
      "4 4\n",
      "5 5\n",
      "6 6\n",
      "21 21\n",
      "11 11\n"
     ]
    }
   ],
   "source": [
    "for k, v in our_cache.cache.items(): \n",
    "    print(k, v)"
   ]
  },
  {
   "cell_type": "code",
   "execution_count": null,
   "id": "894ea82b",
   "metadata": {},
   "outputs": [],
   "source": [
    "\n",
    "\n"
   ]
  },
  {
   "cell_type": "code",
   "execution_count": null,
   "id": "f51d9042",
   "metadata": {},
   "outputs": [],
   "source": []
  }
 ],
 "metadata": {
  "hide_input": false,
  "kernelspec": {
   "display_name": "Python 3 (ipykernel)",
   "language": "python",
   "name": "python3"
  },
  "language_info": {
   "codemirror_mode": {
    "name": "ipython",
    "version": 3
   },
   "file_extension": ".py",
   "mimetype": "text/x-python",
   "name": "python",
   "nbconvert_exporter": "python",
   "pygments_lexer": "ipython3",
   "version": "3.9.7"
  },
  "varInspector": {
   "cols": {
    "lenName": 16,
    "lenType": 16,
    "lenVar": 40
   },
   "kernels_config": {
    "python": {
     "delete_cmd_postfix": "",
     "delete_cmd_prefix": "del ",
     "library": "var_list.py",
     "varRefreshCmd": "print(var_dic_list())"
    },
    "r": {
     "delete_cmd_postfix": ") ",
     "delete_cmd_prefix": "rm(",
     "library": "var_list.r",
     "varRefreshCmd": "cat(var_dic_list()) "
    }
   },
   "types_to_exclude": [
    "module",
    "function",
    "builtin_function_or_method",
    "instance",
    "_Feature"
   ],
   "window_display": false
  }
 },
 "nbformat": 4,
 "nbformat_minor": 5
}
