{
 "cells": [
  {
   "cell_type": "code",
   "execution_count": 1,
   "id": "ab822f35",
   "metadata": {},
   "outputs": [],
   "source": [
    "import pandas as pd "
   ]
  },
  {
   "cell_type": "code",
   "execution_count": 2,
   "id": "b65e557e",
   "metadata": {},
   "outputs": [],
   "source": [
    "class Node:\n",
    "    def __init__(self, value):\n",
    "        self.value = value\n",
    "        self.next = None\n",
    "\n",
    "    def __repr__(self):\n",
    "        return str(self.value)\n",
    "\n",
    "\n",
    "class LinkedList:\n",
    "    def __init__(self):\n",
    "        self.head = None\n",
    "\n",
    "    def __str__(self):\n",
    "        cur_head = self.head\n",
    "        out_string = \"\"\n",
    "        while cur_head:\n",
    "            out_string += str(cur_head.value) + \" -> \"\n",
    "            cur_head = cur_head.next\n",
    "        return out_string\n",
    "\n",
    "\n",
    "    def append(self, value):\n",
    "\n",
    "        if self.head is None:\n",
    "            self.head = Node(value)\n",
    "            return\n",
    "\n",
    "        node = self.head\n",
    "        while node.next:\n",
    "            node = node.next\n",
    "\n",
    "        node.next = Node(value)\n",
    "        \n",
    "\n",
    "    def size(self):\n",
    "        size = 0\n",
    "        node = self.head\n",
    "        while node:\n",
    "            size += 1\n",
    "            node = node.next\n",
    "\n",
    "        return size\n",
    "    \n",
    "\n",
    "def union(llist_1, llist_2):\n",
    "    \n",
    "   \n",
    "    #1. create resulted linked list from the linked list1\n",
    "    #2.iterate on other linked list and append each element to the resulted linked list\n",
    "    \n",
    "    result = llist_1\n",
    "    #result.append(llist_2.head)\n",
    "    node = llist_2.head\n",
    "    while node.next:\n",
    "        \n",
    "        result.append(node)\n",
    "        node = node.next\n",
    "    result.append(node)\n",
    "    return result\n",
    "\n"
   ]
  },
  {
   "cell_type": "code",
   "execution_count": 3,
   "id": "714b35cf",
   "metadata": {},
   "outputs": [],
   "source": [
    "def intersection(llist_1, llist_2):\n",
    "    \n",
    "    \n",
    "    #1.create dictionary out of Linked list 1 with keys as numbers and values as a counter\n",
    "    #2. iterate through linked list 2 , if element is in dictinary, then add element to result Liked list and deduct -1 from counter. If counter reachs 0, delet that key from dictionary\n",
    "    #3. resulted linked list\n",
    "    \n",
    "    #1:\n",
    "    result2 = LinkedList()\n",
    "    dict_llink1 = {}\n",
    "    node = llist_1.head\n",
    "    while node.next:\n",
    "        if node.value in dict_llink1:\n",
    "            dict_llink1[node.value] += 1\n",
    "        else:\n",
    "            dict_llink1[node.value] = 1\n",
    "        node = node.next\n",
    "    #check if Node in a Linked list (look up to dictionary with O(1) time efficiency)\n",
    "    if node.value in dict_llink1:\n",
    "            dict_llink1[node.value] += 1\n",
    "    else:\n",
    "        dict_llink1[node.value] = 1\n",
    "    \n",
    "    #2:\n",
    "    node = llist_2.head\n",
    "    while node.next:\n",
    "        if node.value in dict_llink1:\n",
    "            result2.append(node.value)\n",
    "            dict_llink1[node.value] -=1\n",
    "            if dict_llink1[node.value] == 0:\n",
    "                del dict_llink1[node.value]\n",
    "            \n",
    "        node = node.next\n",
    "    if node.value in dict_llink1:\n",
    "            result2.append(node.value)\n",
    "            \n",
    "    \n",
    "    return result2\n",
    "\n",
    "\n"
   ]
  },
  {
   "cell_type": "markdown",
   "id": "df4b85fd",
   "metadata": {},
   "source": [
    "## Time and Space complexity\n",
    "\n",
    "\n",
    "<br> UNION: \n",
    "<br> Time Complexity:\n",
    "\n",
    "<br> finding the union involves traversing both linked lists and adding unique elements to a new linked list or set.\n",
    "The time complexity for union is O(m + n), where m and n are the lengths of the two linked lists.\n",
    "\n",
    "<br> Space Complexity:\n",
    "\n",
    "<br> The space complexity is O(m + n) to store the union.\n",
    "If modifying one of the existing linked lists, the space complexity might be O(min(m, n)) if you are using additional data structures to keep track of elements.\n",
    "Intersection of Two Linked Lists:\n",
    "Time Complexity:\n",
    "\n",
    "\n",
    "<br> INTERSECTION:\n",
    "<br> Time Complexity:\n",
    "\n",
    "<br> In my solution I traverse both linked lists and use dictionary Data sructur eto store elements/keys of first linked lList and then look up elemnets of second Linked list in distionary (hash table).\n",
    "Thus, finding the intersection involves traversing both linked lists and identifying common elements.\n",
    "The time complexity for intersection is O(m + n)), where m and n are the lengths of the two linked lists.\n",
    "\n",
    "<br>Space Complexity:\n",
    "\n",
    "<br>Building the Dictionary:\n",
    "\n",
    "<br>Space complexity: O(m), where m is the length of the first linked list.\n",
    "Each node from the first linked list is stored in the dictionary.\n",
    "\n",
    "<br>Result Intersection- Linked List:\n",
    "\n",
    "<br>The space complexity for the result linked list is O(min(m, n)) in the worst case.\n",
    "The overall space complexity is O(m), dominated by the space required to store the nodes from the first linked list in the dictionary.\n",
    "\n",
    "<br>My approach is efficient in terms of time complexity, and using a dictionary for lookups helps achieve O(m + n) time complexity. The space complexity is also reasonable."
   ]
  },
  {
   "cell_type": "markdown",
   "id": "5905499e",
   "metadata": {},
   "source": [
    "## Test cases:"
   ]
  },
  {
   "cell_type": "code",
   "execution_count": 4,
   "id": "9ab1b84b",
   "metadata": {},
   "outputs": [
    {
     "name": "stdout",
     "output_type": "stream",
     "text": [
      "3 -> 2 -> 4 -> 35 -> 6 -> 65 -> 6 -> 4 -> 3 -> 21 -> 6 -> 32 -> 4 -> 9 -> 6 -> 1 -> 11 -> 21 -> 1 -> \n",
      "6 -> 4 -> 6 -> 21 -> \n"
     ]
    }
   ],
   "source": [
    "## Test case 1\n",
    "\n",
    "linked_list_1 = LinkedList()\n",
    "linked_list_2 = LinkedList()\n",
    "\n",
    "element_1 = [3,2,4,35,6,65,6,4,3,21]\n",
    "element_2 = [6,32,4,9,6,1,11,21,1]\n",
    "\n",
    "for i in element_1:\n",
    "    linked_list_1.append(i)\n",
    "\n",
    "for i in element_2:\n",
    "    linked_list_2.append(i)\n",
    "\n",
    "print (union(linked_list_1,linked_list_2))\n",
    "print (intersection(linked_list_1,linked_list_2))\n"
   ]
  },
  {
   "cell_type": "code",
   "execution_count": null,
   "id": "0cd8eb92",
   "metadata": {},
   "outputs": [],
   "source": [
    "\n"
   ]
  },
  {
   "cell_type": "code",
   "execution_count": 5,
   "id": "d18340de",
   "metadata": {},
   "outputs": [
    {
     "name": "stdout",
     "output_type": "stream",
     "text": [
      "3 -> 2 -> 4 -> 35 -> 6 -> 65 -> 6 -> 4 -> 3 -> 23 -> 1 -> 7 -> 8 -> 9 -> 11 -> 21 -> 1 -> \n",
      "\n"
     ]
    }
   ],
   "source": [
    "## Test case 2\n",
    "\n",
    "linked_list_3 = LinkedList()\n",
    "linked_list_4 = LinkedList()\n",
    "\n",
    "element_1 = [3,2,4,35,6,65,6,4,3,23]\n",
    "element_2 = [1,7,8,9,11,21,1]\n",
    "\n",
    "for i in element_1:\n",
    "    linked_list_3.append(i)\n",
    "\n",
    "for i in element_2:\n",
    "    linked_list_4.append(i)\n",
    "\n",
    "print (union(linked_list_3,linked_list_4))\n",
    "print (intersection(linked_list_3,linked_list_4))\n",
    "\n"
   ]
  },
  {
   "cell_type": "code",
   "execution_count": null,
   "id": "f0d93fe8",
   "metadata": {},
   "outputs": [],
   "source": []
  },
  {
   "cell_type": "code",
   "execution_count": 6,
   "id": "0ecad5e1",
   "metadata": {},
   "outputs": [
    {
     "name": "stdout",
     "output_type": "stream",
     "text": [
      "1 -> 7 -> 8 -> 21 -> 1 -> \n",
      "\n"
     ]
    }
   ],
   "source": [
    "## Add your own test cases: include at least three test cases\n",
    "## and two of them must include edge cases, such as null, empty or very large values\n",
    "\n",
    "## Test Case 1\n",
    "\n",
    "\n",
    "linked_list_3 = LinkedList()\n",
    "linked_list_4 = LinkedList()\n",
    "\n",
    "element_1 = []\n",
    "element_2 = [1,7,8,21,1]\n",
    "\n",
    "for i in element_1:\n",
    "    linked_list_3.append(i)\n",
    "\n",
    "for i in element_2:\n",
    "    linked_list_4.append(i)\n",
    "\n",
    "print (union(linked_list_3,linked_list_4))\n",
    "print (intersection(linked_list_3,linked_list_4))\n"
   ]
  },
  {
   "cell_type": "code",
   "execution_count": null,
   "id": "79551d49",
   "metadata": {},
   "outputs": [],
   "source": []
  },
  {
   "cell_type": "code",
   "execution_count": 7,
   "id": "ae73f4ee",
   "metadata": {},
   "outputs": [
    {
     "name": "stdout",
     "output_type": "stream",
     "text": [
      "1 -> 7 -> 8 -> 21 -> 1 -> 1 -> 7 -> 8 -> 21 -> 1 -> \n",
      "1 -> 7 -> 8 -> 21 -> 1 -> \n"
     ]
    }
   ],
   "source": [
    "## Test Case 2\n",
    "\n",
    "linked_list_3 = LinkedList()\n",
    "linked_list_4 = LinkedList()\n",
    "\n",
    "element_1 = [1,7,8,21,1]\n",
    "element_2 = [1,7,8,21,1]\n",
    "\n",
    "for i in element_1:\n",
    "    linked_list_3.append(i)\n",
    "\n",
    "for i in element_2:\n",
    "    linked_list_4.append(i)\n",
    "\n",
    "print (union(linked_list_3,linked_list_4))\n",
    "print (intersection(linked_list_3,linked_list_4))\n"
   ]
  },
  {
   "cell_type": "code",
   "execution_count": 8,
   "id": "1e6f5cf4",
   "metadata": {},
   "outputs": [
    {
     "name": "stdout",
     "output_type": "stream",
     "text": [
      "1 -> 7 -> 8 -> 21 -> 1 -> 1 -> 1 -> 1 -> 1 -> 1 -> 1 -> 1000 -> 1000 -> 1000 -> 1000 -> 1000 -> 1 -> 1 -> 1000 -> 1000 -> 1 -> 7 -> 8 -> 21 -> 1 -> \n",
      "1 -> 1 -> 1000 -> 1000 -> 1 -> 7 -> 8 -> 21 -> 1 -> \n"
     ]
    }
   ],
   "source": [
    "## Test Case 3\n",
    "\n",
    "\n",
    "linked_list_3 = LinkedList()\n",
    "linked_list_4 = LinkedList()\n",
    "\n",
    "element_1 = [1,7,8,21,1,1,1,1,1,1,1,1000,1000,1000,1000,1000]\n",
    "element_2 = [1,1,1000,1000,1,7,8,21,1]\n",
    "\n",
    "for i in element_1:\n",
    "    linked_list_3.append(i)\n",
    "\n",
    "for i in element_2:\n",
    "    linked_list_4.append(i)\n",
    "\n",
    "print (union(linked_list_3,linked_list_4))\n",
    "print (intersection(linked_list_3,linked_list_4))\n"
   ]
  },
  {
   "cell_type": "markdown",
   "id": "7c1536e7",
   "metadata": {},
   "source": [
    "## Run Time Analysis:"
   ]
  },
  {
   "cell_type": "code",
   "execution_count": null,
   "id": "b5fc6833",
   "metadata": {},
   "outputs": [],
   "source": []
  }
 ],
 "metadata": {
  "hide_input": false,
  "kernelspec": {
   "display_name": "Python 3 (ipykernel)",
   "language": "python",
   "name": "python3"
  },
  "language_info": {
   "codemirror_mode": {
    "name": "ipython",
    "version": 3
   },
   "file_extension": ".py",
   "mimetype": "text/x-python",
   "name": "python",
   "nbconvert_exporter": "python",
   "pygments_lexer": "ipython3",
   "version": "3.9.7"
  },
  "varInspector": {
   "cols": {
    "lenName": 16,
    "lenType": 16,
    "lenVar": 40
   },
   "kernels_config": {
    "python": {
     "delete_cmd_postfix": "",
     "delete_cmd_prefix": "del ",
     "library": "var_list.py",
     "varRefreshCmd": "print(var_dic_list())"
    },
    "r": {
     "delete_cmd_postfix": ") ",
     "delete_cmd_prefix": "rm(",
     "library": "var_list.r",
     "varRefreshCmd": "cat(var_dic_list()) "
    }
   },
   "types_to_exclude": [
    "module",
    "function",
    "builtin_function_or_method",
    "instance",
    "_Feature"
   ],
   "window_display": false
  }
 },
 "nbformat": 4,
 "nbformat_minor": 5
}
