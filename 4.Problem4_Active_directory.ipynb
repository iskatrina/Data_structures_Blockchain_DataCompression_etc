{
 "cells": [
  {
   "cell_type": "code",
   "execution_count": 1,
   "id": "28fdc8ce",
   "metadata": {},
   "outputs": [],
   "source": [
    "import pandas as pd "
   ]
  },
  {
   "cell_type": "code",
   "execution_count": 2,
   "id": "13f396fb",
   "metadata": {},
   "outputs": [],
   "source": [
    "class Group(object):\n",
    "    def __init__(self, _name):\n",
    "        self.name = _name\n",
    "        self.groups = []\n",
    "        self.users = []\n",
    "\n",
    "    def add_group(self, group):\n",
    "        self.groups.append(group)\n",
    "\n",
    "    def add_user(self, user):\n",
    "        self.users.append(user)\n",
    "\n",
    "    def get_groups(self):\n",
    "        return self.groups\n",
    "\n",
    "    def get_users(self):\n",
    "        return self.users\n",
    "\n",
    "    def get_name(self):\n",
    "        return self.name\n",
    "\n",
    "\n",
    "parent = Group(\"parent\")\n",
    "child = Group(\"child\")\n",
    "sub_child = Group(\"subchild\")\n",
    "\n",
    "sub_child_user = \"sub_child_user\"\n",
    "sub_child.add_user(sub_child_user)\n",
    "\n",
    "child.add_group(sub_child)\n",
    "parent.add_group(child)"
   ]
  },
  {
   "cell_type": "code",
   "execution_count": 3,
   "id": "f8e521b5",
   "metadata": {},
   "outputs": [],
   "source": [
    "def is_user_in_group(user, group):\n",
    "    \"\"\"\n",
    "    Return True if user is in the group, False otherwise.\n",
    "\n",
    "    Args:\n",
    "      user(str): user name/id\n",
    "      group(class:Group): group to check user membership against\n",
    "    \"\"\"\n",
    "    group = group\n",
    "    user = user\n",
    "    outcome = False\n",
    "    #get list of groups in a group\n",
    "    list_of_groups = group.get_groups()\n",
    "    #access each group and get list of users in each group\n",
    "    #check if there is user in list of users\n",
    "    #if now then check list of available groups within this group and so on\n",
    "    \n",
    "    for one in list_of_groups:\n",
    "        users = one.get_users()\n",
    "        if user in users:\n",
    "            return print(\"True\")\n",
    "        else:\n",
    "            #otherwise check subgroups of this one group\n",
    "             is_user_in_group(user,one)\n",
    "    \n",
    "   \n",
    "    return outcome\n",
    "\n"
   ]
  },
  {
   "cell_type": "markdown",
   "id": "e0490d69",
   "metadata": {},
   "source": [
    "## Explanation\n",
    "\n",
    "<br> 1. For a efficient seurch funcion I used data structure List  in conjunction with Recursion. Each users structure and each group structure represented as a List. Using append method, wrapped as a class function, user can add new users and new groups.\n",
    "<br> For a seaurch itself , function  is_user_in_group(user, group) iterates over list of  Groups and checks if the user belongs to one of the Group and returns True if it founds it. Otherwise checks subgroups in the recursive manner one by one in the depth-down manner until it founds the user or returns otherwise None.\n"
   ]
  },
  {
   "cell_type": "markdown",
   "id": "a20ee7b9",
   "metadata": {},
   "source": [
    "## Time and Space efficiency \n",
    "\n",
    "#### Key answer: Linear Time Complexity and Constant Space efficiency\n",
    "\n",
    "1. TIme efficiency. Traversal Time: The implemented search function efficiently traverses the Groups tree in a top-down manner. It explores each Group and subgroups  in a depth-first fashion.\n",
    "<br> => Linear Time Complexity: The time complexity is generally O(n), where n is the total number of Groups and subgroups in the tree. It visits each Group and subgroup once.\n",
    "\n",
    "\n",
    "2. Space efficiency. Memory Usage:  The implemented search functionis memory-efficient as it doesn't load the entire Group tree into memory at once. Instead, it returns a generator object that yields a tuple for each Group it visits. The tuple contains the current list of Groups, a list of its subGroups.\n",
    "<br> => Constant Space Overhead: The memory used by  implemented search function is proportional to the depth of the Group tree, not the total number of Groups. The generator ensures that only a small portion of the Group tree is loaded into memory at any given time.\n",
    "\n",
    "<br> In summary,  implemented search function is generally considered both time and space-efficient. It is well-suited for efficiently processing Group's trees of various sizes, and its memory usage is optimized by yielding results incrementally. \n",
    "\n"
   ]
  },
  {
   "cell_type": "code",
   "execution_count": 4,
   "id": "a10a0294",
   "metadata": {},
   "outputs": [
    {
     "data": {
      "text/plain": [
       "False"
      ]
     },
     "execution_count": 4,
     "metadata": {},
     "output_type": "execute_result"
    }
   ],
   "source": [
    "## Add your own test cases: include at least three test cases\n",
    "## and two of them must include edge cases, such as null, empty or very large values\n",
    "\n",
    "## Test Case 1\n",
    "\n",
    "parent = Group(\"parent\")\n",
    "child = Group(\"child\")\n",
    "sub_child = Group(\"subchild\")\n",
    "\n",
    "sub_child_user = \"sub_child_user\"\n",
    "sub_child.add_user(sub_child_user)\n",
    "\n",
    "child.add_group(sub_child)\n",
    "parent.add_group(child)\n",
    "\n",
    "\n",
    "is_user_in_group(user=\"sub_user\", group = child)"
   ]
  },
  {
   "cell_type": "code",
   "execution_count": 5,
   "id": "783f7365",
   "metadata": {},
   "outputs": [
    {
     "name": "stdout",
     "output_type": "stream",
     "text": [
      "True\n"
     ]
    }
   ],
   "source": [
    "## Test Case 2\n",
    "\n",
    "students  = Group(\"students\")\n",
    "desks = Group(\"desks\")\n",
    "pens = Group('pens')\n",
    "teachers = Group('teachers')\n",
    "\n",
    "owners = Group('owners')\n",
    "owners.add_group(students)\n",
    "owners.add_group(teachers)\n",
    "\n",
    "objects = Group('objects')\n",
    "objects.add_group(pens)\n",
    "objects.add_group(desks)\n",
    "\n",
    "students.add_user('sasha')\n",
    "students.add_user('oksana')\n",
    "students.add_user('sergey')\n",
    "\n",
    "teachers.add_user('franko')\n",
    "teachers.add_user('frank')\n",
    "teachers.add_user('mavrikii')\n",
    "\n",
    "is_user_in_group(user=\"frank\", group = owners)"
   ]
  },
  {
   "cell_type": "code",
   "execution_count": 6,
   "id": "fd64f9b6",
   "metadata": {},
   "outputs": [
    {
     "data": {
      "text/plain": [
       "False"
      ]
     },
     "execution_count": 6,
     "metadata": {},
     "output_type": "execute_result"
    }
   ],
   "source": [
    "## Test Case 3\n",
    "\n",
    "students  = Group(\"students\")\n",
    "desks = Group(\"desks\")\n",
    "pens = Group('pens')\n",
    "teachers = Group('teachers')\n",
    "\n",
    "owners = Group('owners')\n",
    "owners.add_group(students)\n",
    "owners.add_group(teachers)\n",
    "\n",
    "objects = Group('objects')\n",
    "objects.add_group(pens)\n",
    "objects.add_group(desks)\n",
    "\n",
    "students.add_user('sasha')\n",
    "students.add_user('oksana')\n",
    "students.add_user('sergey')\n",
    "\n",
    "teachers.add_user('franko')\n",
    "teachers.add_user('frank')\n",
    "teachers.add_user('mavrikii')\n",
    "\n",
    "is_user_in_group(user=\"red\", group = objects)"
   ]
  },
  {
   "cell_type": "code",
   "execution_count": null,
   "id": "a06e6c8b",
   "metadata": {},
   "outputs": [],
   "source": []
  },
  {
   "cell_type": "code",
   "execution_count": null,
   "id": "ad707530",
   "metadata": {},
   "outputs": [],
   "source": []
  },
  {
   "cell_type": "code",
   "execution_count": null,
   "id": "a666e33f",
   "metadata": {},
   "outputs": [],
   "source": []
  }
 ],
 "metadata": {
  "hide_input": false,
  "kernelspec": {
   "display_name": "Python 3 (ipykernel)",
   "language": "python",
   "name": "python3"
  },
  "language_info": {
   "codemirror_mode": {
    "name": "ipython",
    "version": 3
   },
   "file_extension": ".py",
   "mimetype": "text/x-python",
   "name": "python",
   "nbconvert_exporter": "python",
   "pygments_lexer": "ipython3",
   "version": "3.9.7"
  },
  "varInspector": {
   "cols": {
    "lenName": 16,
    "lenType": 16,
    "lenVar": 40
   },
   "kernels_config": {
    "python": {
     "delete_cmd_postfix": "",
     "delete_cmd_prefix": "del ",
     "library": "var_list.py",
     "varRefreshCmd": "print(var_dic_list())"
    },
    "r": {
     "delete_cmd_postfix": ") ",
     "delete_cmd_prefix": "rm(",
     "library": "var_list.r",
     "varRefreshCmd": "cat(var_dic_list()) "
    }
   },
   "types_to_exclude": [
    "module",
    "function",
    "builtin_function_or_method",
    "instance",
    "_Feature"
   ],
   "window_display": false
  }
 },
 "nbformat": 4,
 "nbformat_minor": 5
}
