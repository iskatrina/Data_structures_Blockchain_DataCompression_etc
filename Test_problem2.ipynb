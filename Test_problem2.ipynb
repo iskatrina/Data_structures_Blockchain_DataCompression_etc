{
 "cells": [
  {
   "cell_type": "code",
   "execution_count": 2,
   "id": "fe300bc2",
   "metadata": {},
   "outputs": [],
   "source": [
    "import pandas as pd \n",
    "import os"
   ]
  },
  {
   "cell_type": "code",
   "execution_count": null,
   "id": "81e38651",
   "metadata": {},
   "outputs": [],
   "source": []
  },
  {
   "cell_type": "code",
   "execution_count": 3,
   "id": "731e3fd8",
   "metadata": {},
   "outputs": [],
   "source": [
    "def find_files(suffix, path):\n",
    "    \"\"\"\n",
    "    Find all files beneath path with file name suffix.\n",
    "\n",
    "    Note that a path may contain further subdirectories\n",
    "    and those subdirectories may also contain further subdirectories.\n",
    "\n",
    "    There are no limit to the depth of the subdirectories can be.\n",
    "\n",
    "    Args:\n",
    "      suffix(str): suffix if the file name to be found\n",
    "      path(str): path of the file system\n",
    "\n",
    "    Returns:\n",
    "       a list of paths\n",
    "    \"\"\"\n",
    "    \n",
    "    path = path\n",
    "    suffix = suffix\n",
    "    \n",
    "    \n",
    "    #recurtion\n",
    "    for File in os.listdir(path):\n",
    "        #print(File)\n",
    "        if  File.endswith(\".\"+suffix)== True: \n",
    "            #print('true, it is file')\n",
    "            #print(File)\n",
    "            print(os.path.join(path))\n",
    "            #print(os.path.dirname(os.path.realpath(File)))\n",
    "        if  os.path.isdir(os.path.join(path,File)):\n",
    "            #print('it is dirictory')\n",
    "           # print(os.path.join(path,File))\n",
    "            sub_path = os.path.join(path,File)\n",
    "            #print('subpath=',sub_path)\n",
    "            find_files(suffix='c',path=sub_path)\n",
    "    \n",
    "    \n",
    "    return None\n",
    "\n"
   ]
  },
  {
   "cell_type": "code",
   "execution_count": 4,
   "id": "5cf0b6d8",
   "metadata": {},
   "outputs": [
    {
     "name": "stdout",
     "output_type": "stream",
     "text": [
      "/Users/katerynaisaieva/Desktop/Nanodegree_Projects/Algorytms_Datastructures_Nanodegree/Project2_datastructures/Problem2_File_Recursion/testdir/subdir3/subsubdir1\n",
      "/Users/katerynaisaieva/Desktop/Nanodegree_Projects/Algorytms_Datastructures_Nanodegree/Project2_datastructures/Problem2_File_Recursion/testdir/\n",
      "/Users/katerynaisaieva/Desktop/Nanodegree_Projects/Algorytms_Datastructures_Nanodegree/Project2_datastructures/Problem2_File_Recursion/testdir/subdir5\n",
      "/Users/katerynaisaieva/Desktop/Nanodegree_Projects/Algorytms_Datastructures_Nanodegree/Project2_datastructures/Problem2_File_Recursion/testdir/subdir1\n"
     ]
    }
   ],
   "source": [
    "## Add your own test cases: include at least three test cases\n",
    "## and two of them must include edge cases, such as null, empty or very large values\n",
    "\n",
    "## Test Case 1\n",
    "\n",
    "find_files(suffix = 'c', path= '/Users/katerynaisaieva/Desktop/Nanodegree_Projects/Algorytms_Datastructures_Nanodegree/Project2_datastructures/Problem2_File_Recursion/testdir/')\n"
   ]
  },
  {
   "cell_type": "code",
   "execution_count": 7,
   "id": "6f65d7ee",
   "metadata": {},
   "outputs": [
    {
     "name": "stdout",
     "output_type": "stream",
     "text": [
      "/Users/katerynaisaieva/Desktop/Nanodegree_Projects/Algorytms_Datastructures_Nanodegree/Project2_datastructures/Problem2_File_Recursion/testdir/subdir3/subsubdir1\n",
      "/Users/katerynaisaieva/Desktop/Nanodegree_Projects/Algorytms_Datastructures_Nanodegree/Project2_datastructures/Problem2_File_Recursion/testdir/subdir5\n",
      "/Users/katerynaisaieva/Desktop/Nanodegree_Projects/Algorytms_Datastructures_Nanodegree/Project2_datastructures/Problem2_File_Recursion/testdir/subdir1\n"
     ]
    }
   ],
   "source": [
    "## Test Case 2 \n",
    "\n",
    "find_files(suffix = '', path= '/Users/katerynaisaieva/Desktop/Nanodegree_Projects/Algorytms_Datastructures_Nanodegree/Project2_datastructures/Problem2_File_Recursion/testdir/')\n"
   ]
  },
  {
   "cell_type": "code",
   "execution_count": 6,
   "id": "d7906b7e",
   "metadata": {},
   "outputs": [],
   "source": [
    "## Test Case 3 (Empty)\n",
    "\n",
    "find_files(suffix = 'c', path= '/Users/katerynaisaieva/Desktop/Nanodegree_Projects/Algorytms_Datastructures_Nanodegree/Project2_datastructures/Problem2_File_Recursion/testdir/subdir2')\n"
   ]
  },
  {
   "cell_type": "code",
   "execution_count": null,
   "id": "875fc201",
   "metadata": {},
   "outputs": [],
   "source": []
  }
 ],
 "metadata": {
  "kernelspec": {
   "display_name": "Python 3 (ipykernel)",
   "language": "python",
   "name": "python3"
  },
  "language_info": {
   "codemirror_mode": {
    "name": "ipython",
    "version": 3
   },
   "file_extension": ".py",
   "mimetype": "text/x-python",
   "name": "python",
   "nbconvert_exporter": "python",
   "pygments_lexer": "ipython3",
   "version": "3.9.7"
  }
 },
 "nbformat": 4,
 "nbformat_minor": 5
}
