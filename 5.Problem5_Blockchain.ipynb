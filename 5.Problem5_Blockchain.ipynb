{
 "cells": [
  {
   "cell_type": "code",
   "execution_count": null,
   "id": "e23fe862",
   "metadata": {},
   "outputs": [],
   "source": [
    "import pandas as pd\n",
    "import time "
   ]
  },
  {
   "cell_type": "code",
   "execution_count": null,
   "id": "392ca99c",
   "metadata": {},
   "outputs": [],
   "source": [
    "import hashlib\n",
    "\n",
    "def calc_hash(self):\n",
    "    sha = hashlib.sha256()\n",
    "\n",
    "    hash_str = data.encode('utf-8')\n",
    "\n",
    "    sha.update(hash_str)\n",
    "\n",
    "    return sha.hexdigest()"
   ]
  },
  {
   "cell_type": "code",
   "execution_count": null,
   "id": "9d7ee2c8",
   "metadata": {},
   "outputs": [],
   "source": [
    "sha = hashlib.sha256()"
   ]
  },
  {
   "cell_type": "code",
   "execution_count": null,
   "id": "6e522d96",
   "metadata": {},
   "outputs": [],
   "source": [
    "hash_str = 'I start Blockchain task'.encode('utf-8')\n",
    "sha.update(hash_str)"
   ]
  },
  {
   "cell_type": "code",
   "execution_count": null,
   "id": "0cf459d2",
   "metadata": {},
   "outputs": [
    {
     "data": {
      "text/plain": [
       "'7de290216c80f4faf00523cd130e613e2622d89c26bd96d85d47c5ef8b62b98d'"
      ]
     },
     "execution_count": 5,
     "metadata": {},
     "output_type": "execute_result"
    }
   ],
   "source": [
    "sha.hexdigest()"
   ]
  },
  {
   "cell_type": "code",
   "execution_count": 6,
   "id": "27df157e",
   "metadata": {},
   "outputs": [],
   "source": [
    "hash_str = 'I practicing with sha funtions'.encode('utf-8')\n",
    "sha.update(hash_str)"
   ]
  },
  {
   "cell_type": "code",
   "execution_count": 7,
   "id": "27124f31",
   "metadata": {},
   "outputs": [
    {
     "data": {
      "text/plain": [
       "'0b1763e2d3e7a81cccad24519a09fbc722dfdd80a85724f770987615214ca3d9'"
      ]
     },
     "execution_count": 7,
     "metadata": {},
     "output_type": "execute_result"
    }
   ],
   "source": [
    "sha.hexdigest()"
   ]
  },
  {
   "cell_type": "markdown",
   "id": "ee43968b",
   "metadata": {},
   "source": [
    "## Explanation:\n",
    "Im implemented Blockchain using linked list structure for Blockchain itself, and to store data of transactions i implemented as a distionary/hash map. "
   ]
  },
  {
   "cell_type": "markdown",
   "id": "ac17b948",
   "metadata": {},
   "source": [
    "## Time and Space commplexity:\n",
    "\n",
    "#-------------------------\n",
    "<br> *Time Complexity*:\n",
    "<br> #-------------------------\n",
    "\n",
    "<br> Adding a New Block (Appending to the Linked List):\n",
    "\n",
    "Time complexity: O(1)\n",
    "Appending a new block to the end of a linked list is a constant time operation.\n",
    "\n",
    "<br> Traversing the Blockchain:\n",
    "\n",
    "Time complexity: O(n)\n",
    "If one needs to traverse the entire blockchain (all blocks), the time complexity is linear, where n is the number of blocks in the chain.\n",
    "\n",
    "<br> Validating the Blockchain:\n",
    "\n",
    "Time complexity: O(n)\n",
    "Validating the entire blockchain involves traversing all blocks and verifying the integrity of each block.\n",
    "\n",
    "<br> Searching for a Specific Block:\n",
    "\n",
    "Time complexity: O(n) in a worst case\n",
    "\n",
    "Searching for a block in the linked list involves traversing the list until the target block is found.\n",
    "\n",
    "#----------------------------\n",
    "<br> *Space Complexity:*\n",
    "<br> #----------------------------\n",
    "\n",
    "<br> Storing the Blockchain (Linked List Nodes):\n",
    "\n",
    "<br>Space complexity: O(n)\n",
    "The space required to store the blockchain is proportional to the number of blocks. Each block corresponds to a node in the linked list.\n",
    "\n",
    "<br>Additional Metadata (Block Information, Pointers, etc.):\n",
    "\n",
    "The space complexity may include additional metadata associated with each block - timestamps, transaction data, and pointers to the next block.\n",
    "The overall space complexity may depend on the size of this metadata. im my test examples its rather could be not taken in count.\n",
    "\n",
    "\n",
    "\n",
    "#------PS ------------\n",
    "Notes:\n",
    "Block Validation Overhead:\n",
    "\n",
    "While validating the blockchain has a time complexity of O(n), the actual validation process may involve cryptographic operations, which can add computational overhead.\n",
    "Dynamic Block Addition:\n",
    "\n",
    "If the blockchain allows dynamic addition and removal of blocks (e.g., through a consensus mechanism), the time complexity of certain operations may vary.\n",
    "\n",
    "\n",
    "<br> Transaction Processing:\n",
    "\n",
    "If the blocks contain a large number of transactions, the time complexity for operations involving transactions may be influenced by the number of transactions within each block.\n",
    "\n",
    "\n",
    "<br> Optimizations:\n",
    "\n",
    "Various optimizations can be applied to improve the efficiency of certain operations, such as using hash pointers for quick verification.\n",
    "Keep in mind that the actual complexities can vary based on implementation details and specific design choices within the blockchain system.\n"
   ]
  },
  {
   "cell_type": "markdown",
   "id": "bbcc12fa",
   "metadata": {},
   "source": [
    "## Calculate hash function for a dictionary of data"
   ]
  },
  {
   "cell_type": "code",
   "execution_count": 8,
   "id": "00c20e81",
   "metadata": {},
   "outputs": [
    {
     "name": "stdout",
     "output_type": "stream",
     "text": [
      "Hashed Dictionary: ba7816bf8f01cfea414140de5dae2223b00361a396177a9cb410ff61f20015ad\n"
     ]
    }
   ],
   "source": [
    "import hashlib\n",
    "\n",
    "def hash_dictionary(dict_data, hash_algorithm='sha256'):\n",
    "    hashed_dict = {}\n",
    "\n",
    "    for key, value in dict_data.items():\n",
    "        # Convert the value to a bytes-like object (assumes value is a string)\n",
    "        value_bytes = str(value).encode('utf-8')\n",
    "\n",
    "        # Choose the hash algorithm (default is SHA-256)\n",
    "        hash_func = hashlib.new(hash_algorithm)\n",
    "\n",
    "        # Update the hash with the value bytes\n",
    "        hash_func.update(value_bytes)\n",
    "\n",
    "        # Get the hexadecimal representation of the hash\n",
    "        hashed_value = hash_func.hexdigest()\n",
    "\n",
    "        # Store the hashed value in the new dictionary\n",
    "        hashed_dict[key] = hashed_value\n",
    "        \n",
    "\n",
    "    return list(hashed_dict.values())[0]\n",
    "\n",
    "# Example usage:\n",
    "dict_data = {'key1': 'abc', 'key2': 'def', 'key3': 'abcde'}\n",
    "hashed_result = hash_dictionary(dict_data)\n",
    "\n",
    "#print(f\"Original Dictionary: {dict_data}\")\n",
    "print(f\"Hashed Dictionary: {hashed_result}\")"
   ]
  },
  {
   "cell_type": "code",
   "execution_count": 9,
   "id": "676f6e8b",
   "metadata": {},
   "outputs": [
    {
     "data": {
      "text/plain": [
       "'afb14dad1ed9c0f7922c1844bc19b0993c27b0d502513afe360bcd15f8b68df1'"
      ]
     },
     "execution_count": 9,
     "metadata": {},
     "output_type": "execute_result"
    }
   ],
   "source": [
    "sha_data = {'data' : ['EUR', 100, 'sent','Natalia']}\n",
    "hash_dictionary(dict_data = sha_data)"
   ]
  },
  {
   "cell_type": "markdown",
   "id": "9b632d65",
   "metadata": {},
   "source": [
    "## Blockchain implementation"
   ]
  },
  {
   "cell_type": "code",
   "execution_count": 10,
   "id": "2a66551c",
   "metadata": {},
   "outputs": [],
   "source": [
    "class Block:\n",
    "        \n",
    "    def __init__(self,  data, previous_hash=None):\n",
    "        self.timestamp = time.time()\n",
    "        self.data = data\n",
    "        self.previous_hash = previous_hash\n",
    "        self.hash = self.calc_hash()\n",
    "        self.next = None\n",
    "        \n",
    "    def calc_hash(self):\n",
    "        sha = hashlib.sha256()\n",
    "        sha.update(str(self.timestamp).encode('utf-8') + str(self.data).encode('utf-8') +\n",
    "                  \n",
    "                   str(self.previous_hash).encode('utf-8')) \n",
    "        \n",
    "        return sha.hexdigest()\n",
    "    \n",
    "    def __str__(self):\n",
    "        return f\"Data: {self.data}, Previous Hash: {self.previous_hash}, Hash: {self.hash}\"\n",
    "\n",
    "    \n",
    "    \n",
    "\n",
    "\n",
    "class Blockchain():\n",
    "    def __init__(self):\n",
    "        self.head = None\n",
    "        self.tail = None\n",
    "        self.previous_hash = None  # Initialize previous_hash\n",
    "        \n",
    "\n",
    "    def append(self, data):\n",
    "        \"\"\" Append a value as a head, which will be a tail as well \"\"\"    \n",
    "       \n",
    "        if self.head is None:\n",
    "            self.head = Block(data, self.previous_hash)\n",
    "            self.tail = self.head\n",
    "            previous_hash = self.head.hash\n",
    "\n",
    "        else:\n",
    "            \"\"\" Append a value to the tail \"\"\"   \n",
    "            self.tail.next = Block(data, self.tail.hash)\n",
    "            self.tail = self.tail.next\n",
    "        \n",
    "        return self.head\n",
    "    \n",
    "    "
   ]
  },
  {
   "cell_type": "code",
   "execution_count": 11,
   "id": "3d411cef",
   "metadata": {},
   "outputs": [],
   "source": [
    "import matplotlib.pyplot as plt\n",
    "import networkx as nx\n",
    "import math\n",
    "\n",
    "def visualize_linked_list_horizontal(head):\n",
    "        G = nx.DiGraph()\n",
    "\n",
    "        current_node = head\n",
    "        pos = {}\n",
    "        x_position = 0\n",
    "\n",
    "        while current_node:\n",
    "            G.add_node(current_node.data)\n",
    "            pos[current_node.data] = (x_position, 0)\n",
    "            x_position += 100  # Move right for the next node\n",
    "\n",
    "            if current_node.next:\n",
    "                G.add_edge(current_node.data, current_node.next.data)\n",
    "\n",
    "            current_node = current_node.next\n",
    "\n",
    "        nx.draw(G, pos, with_labels=True, node_size=700, node_color=\"skyblue\", font_size=8, font_color=\"black\", font_weight=\"bold\", arrows=True)\n",
    "        plt.show()\n",
    "        \n",
    "\n",
    "def visualize_linked_list_vertical(head):\n",
    "    G = nx.DiGraph()\n",
    "\n",
    "    current_node = head\n",
    "    num_nodes = 0\n",
    "\n",
    "    while current_node:\n",
    "        G.add_node(current_node.data)\n",
    "        num_nodes += 1\n",
    "        current_node = current_node.next\n",
    "\n",
    "    positions = {}\n",
    "\n",
    "    for i, node in enumerate(G.nodes):\n",
    "        angle = (i / num_nodes) * 2 * math.pi\n",
    "        x = 0  # Center the nodes along the y-axis\n",
    "        y = -math.cos(angle) - 0.5 * i  # Adjust the y-coordinate to prevent overlap\n",
    "        positions[node] = (x, y)\n",
    "\n",
    "    # Draw nodes\n",
    "    nx.draw(G, positions, with_labels=False, node_size=700, node_color=\"skyblue\", font_size=8, font_color=\"black\", font_weight=\"bold\", arrows=True)\n",
    "\n",
    "    # Draw node labels to the right\n",
    "    for node, (x, y) in positions.items():\n",
    "        plt.text(x + 0.1, y, node, fontsize=8, ha='left', va='center')\n",
    "\n",
    "    plt.gca().set_aspect('equal', adjustable='box')  # Ensure equal aspect ratio\n",
    "    plt.axis('off')  # Turn off the axis\n",
    "    plt.show()\n"
   ]
  },
  {
   "cell_type": "markdown",
   "id": "402ec4ba",
   "metadata": {},
   "source": [
    "## Blockchain Test Case 1:"
   ]
  },
  {
   "cell_type": "code",
   "execution_count": 12,
   "id": "adaf2bcc",
   "metadata": {},
   "outputs": [
    {
     "data": {
      "text/plain": [
       "<__main__.Block at 0x7fda0092e790>"
      ]
     },
     "execution_count": 12,
     "metadata": {},
     "output_type": "execute_result"
    }
   ],
   "source": [
    "Transactions = Blockchain()\n",
    "#data: [currency_name,amount,'sent'/'received', reciever/sender name]\n",
    "Kate = Block( data = ['EUR', 100, 'sent','Natalia'], previous_hash = None)\n",
    "Denis = Block( data  = ['AUS', 200, 'sent','Vladimir'], previous_hash = Kate.hash)\n",
    "Natalia = Block( data  = ['UKR_HRV', 2999, 'received','Kate'], previous_hash = Denis.hash)\n",
    "Vladimir = Block( data = ['RUS', 1000, 'received','Denis'], previous_hash = Natalia.hash)\n",
    "\n",
    "#adding transactions to Blockchain \"Transactions\"\n",
    "Transactions.append(Kate)\n",
    "Transactions.append(Denis )\n",
    "Transactions.append(Natalia)\n",
    "Transactions.append(Vladimir)\n"
   ]
  },
  {
   "cell_type": "code",
   "execution_count": null,
   "id": "95dfe702",
   "metadata": {},
   "outputs": [],
   "source": []
  },
  {
   "cell_type": "code",
   "execution_count": 13,
   "id": "d08c3707",
   "metadata": {},
   "outputs": [
    {
     "name": "stdout",
     "output_type": "stream",
     "text": [
      "['EUR', 100, 'sent', 'Natalia']\n",
      "['AUS', 200, 'sent', 'Vladimir']\n",
      "['UKR_HRV', 2999, 'received', 'Kate']\n",
      "['RUS', 1000, 'received', 'Denis']\n"
     ]
    }
   ],
   "source": [
    "current_block = Transactions.head\n",
    "i = 0\n",
    "while current_block is not None:\n",
    "    print('Block ', i)\n",
    "    i += 1\n",
    "    print('Timestamp:', current_block.timestamp)\n",
    "    print('Block information:', str(current_block))\n",
    "    print('Previous hash:',current_block.previous_hash)\n",
    "    print('Current hash:',current_block.hash)\n",
    "    print('---------------------------')\n",
    "\n",
    "    current_block = current_block.next\n",
    "  "
   ]
  },
  {
   "cell_type": "code",
   "execution_count": 14,
   "id": "7d86e096",
   "metadata": {},
   "outputs": [
    {
     "data": {
      "image/png": "[encoded data removed]",
      "text/plain": [
       "<Figure size 432x288 with 1 Axes>"
      ]
     },
     "metadata": {},
     "output_type": "display_data"
    }
   ],
   "source": [
    "visualize_linked_list_vertical(Transactions.head)"
   ]
  },
  {
   "cell_type": "code",
   "execution_count": 15,
   "id": "94802bc2",
   "metadata": {},
   "outputs": [],
   "source": [
    "#visualize_linked_list_horizontal(Transactions.head)"
   ]
  },
  {
   "cell_type": "markdown",
   "id": "6b302ebd",
   "metadata": {},
   "source": [
    "## Blockchain Test Case 2:"
   ]
  },
  {
   "cell_type": "code",
   "execution_count": 16,
   "id": "72b8e736",
   "metadata": {},
   "outputs": [],
   "source": [
    "## and two of them must include edge cases, such as null, empty or very large values\n"
   ]
  },
  {
   "cell_type": "code",
   "execution_count": 17,
   "id": "05dce1e0",
   "metadata": {},
   "outputs": [],
   "source": [
    "Transactions = Blockchain()\n",
    "#data: [currency_name,amount,'sent'/'received', reciever/sender name]\n",
    "Kate = Block( data = ['EUR', 100, 'sent','Natalia'], previous_hash = None)\n",
    "Denis = Block( data  = ['AUS', 200, 'sent','Vladimir'], previous_hash = Kate.hash)\n",
    "Natalia = Block( data  = ['UKR_HRV', 2999, 'received','Kate'], previous_hash = Denis.hash)\n",
    "Vladimir = Block( data = ['RUS', 1000, 'received','Denis'], previous_hash = Natalia.hash)\n",
    "Kate = Block( data = ['EUR', 100, 'sent','Natalia'], previous_hash = None)\n",
    "Denis = Block( data  = ['AUS', 200, 'sent','Vladimir'], previous_hash = Kate.hash)\n",
    "Natalia = Block( data  = ['UKR_HRV', 2999, 'received','Kate'], previous_hash = Denis.hash)\n",
    "Vladimir = Block( data = ['RUS', 1000, 'received','Denis'], previous_hash = Natalia.hash)\n",
    "Kate = Block( data = ['EUR', 100, 'sent','Natalia'], previous_hash = None)\n",
    "Denis = Block( data  = ['AUS', 200, 'sent','Vladimir'], previous_hash = Kate.hash)\n",
    "Natalia = Block( data  = ['UKR_HRV', 2999, 'received','Kate'], previous_hash = Denis.hash)\n",
    "Vladimir = Block( data = ['RUS', 1000, 'received','Denis'], previous_hash = Natalia.hash)\n",
    "Kate = Block( data = ['EUR', 100, 'sent','Natalia'], previous_hash = None)\n",
    "Denis = Block( data  = ['AUS', 200, 'sent','Vladimir'], previous_hash = Kate.hash)\n",
    "Natalia = Block( data  = ['UKR_HRV', 2999, 'received','Kate'], previous_hash = Denis.hash)\n",
    "Vladimir = Block( data = ['RUS', 1000, 'received','Denis'], previous_hash = Natalia.hash)\n",
    "Kate = Block( data = ['EUR', 100, 'sent','Natalia'], previous_hash = None)\n",
    "Denis = Block( data  = ['AUS', 200, 'sent','Vladimir'], previous_hash = Kate.hash)\n",
    "Natalia = Block( data  = ['UKR_HRV', 2999, 'received','Kate'], previous_hash = Denis.hash)\n",
    "Vladimir = Block( data = ['RUS', 1000, 'received','Denis'], previous_hash = Natalia.hash)\n",
    "Kate = Block( data = ['EUR', 100, 'sent','Natalia'], previous_hash = None)\n",
    "Denis = Block( data  = ['AUS', 200, 'sent','Vladimir'], previous_hash = Kate.hash)\n",
    "Natalia = Block( data  = ['UKR_HRV', 2999, 'received','Kate'], previous_hash = Denis.hash)\n",
    "Vladimir = Block( data = ['RUS', 1000, 'received','Denis'], previous_hash = Natalia.hash)\n",
    "Kate = Block( data = ['EUR', 100, 'sent','Natalia'], previous_hash = None)\n",
    "Denis = Block( data  = ['AUS', 200, 'sent','Vladimir'], previous_hash = Kate.hash)\n",
    "Natalia = Block( data  = ['UKR_HRV', 2999, 'received','Kate'], previous_hash = Denis.hash)\n",
    "Vladimir = Block( data = ['RUS', 1000, 'received','Denis'], previous_hash = Natalia.hash)\n",
    "Kate = Block( data = ['EUR', 100, 'sent','Natalia'], previous_hash = None)\n",
    "Denis = Block( data  = ['AUS', 200, 'sent','Vladimir'], previous_hash = Kate.hash)\n",
    "Natalia = Block( data  = ['UKR_HRV', 2999, 'received','Kate'], previous_hash = Denis.hash)\n",
    "Vladimir = Block( data = ['RUS', 1000, 'received','Denis'], previous_hash = Natalia.hash)\n",
    "Kate = Block( data = ['EUR', 100, 'sent','Natalia'], previous_hash = None)\n",
    "Denis = Block( data  = ['AUS', 200, 'sent','Vladimir'], previous_hash = Kate.hash)\n",
    "Natalia = Block( data  = ['UKR_HRV', 2999, 'received','Kate'], previous_hash = Denis.hash)\n",
    "Vladimir = Block( data = ['RUS', 1000, 'received','Denis'], previous_hash = Natalia.hash)\n",
    "Kate = Block( data = ['EUR', 100, 'sent','Natalia'], previous_hash = None)\n",
    "Denis = Block( data  = ['AUS', 200, 'sent','Vladimir'], previous_hash = Kate.hash)\n",
    "Natalia = Block( data  = ['UKR_HRV', 2999, 'received','Kate'], previous_hash = Denis.hash)\n",
    "Vladimir = Block( data = ['RUS', 1000, 'received','Denis'], previous_hash = Natalia.hash)\n"
   ]
  },
  {
   "cell_type": "code",
   "execution_count": 18,
   "id": "9fcd7a13",
   "metadata": {},
   "outputs": [
    {
     "data": {
      "text/plain": [
       "<__main__.Block at 0x7fda0092e190>"
      ]
     },
     "execution_count": 18,
     "metadata": {},
     "output_type": "execute_result"
    }
   ],
   "source": [
    "#adding transactions to Blockchain \"Transactions\"\n",
    "Transactions.append(Kate)\n",
    "Transactions.append(Denis )\n",
    "Transactions.append(Natalia)\n",
    "Transactions.append(Vladimir)\n",
    "Transactions.append(Kate)\n",
    "Transactions.append(Denis )\n",
    "Transactions.append(Natalia)\n",
    "Transactions.append(Vladimir)\n",
    "Transactions.append(Kate)\n",
    "Transactions.append(Denis )\n",
    "Transactions.append(Natalia)\n",
    "Transactions.append(Vladimir)\n",
    "Transactions.append(Kate)\n",
    "Transactions.append(Denis )\n",
    "Transactions.append(Natalia)\n",
    "Transactions.append(Vladimir)\n",
    "Transactions.append(Kate)\n",
    "Transactions.append(Denis )\n",
    "Transactions.append(Natalia)\n",
    "Transactions.append(Vladimir)\n",
    "Transactions.append(Kate)\n",
    "Transactions.append(Denis )\n",
    "Transactions.append(Natalia)\n",
    "Transactions.append(Vladimir)\n",
    "Transactions.append(Kate)\n",
    "Transactions.append(Denis )\n",
    "Transactions.append(Natalia)\n",
    "Transactions.append(Vladimir)\n",
    "Transactions.append(Kate)\n",
    "Transactions.append(Denis )\n",
    "Transactions.append(Natalia)\n",
    "Transactions.append(Vladimir)\n",
    "Transactions.append(Kate)\n",
    "Transactions.append(Denis )\n",
    "Transactions.append(Natalia)\n",
    "Transactions.append(Vladimir)\n",
    "Transactions.append(Kate)\n",
    "Transactions.append(Denis )\n",
    "Transactions.append(Natalia)\n",
    "Transactions.append(Vladimir)\n"
   ]
  },
  {
   "cell_type": "code",
   "execution_count": 19,
   "id": "e79bb220",
   "metadata": {},
   "outputs": [
    {
     "name": "stdout",
     "output_type": "stream",
     "text": [
      "['EUR', 100, 'sent', 'Natalia']\n",
      "['AUS', 200, 'sent', 'Vladimir']\n",
      "['UKR_HRV', 2999, 'received', 'Kate']\n",
      "['RUS', 1000, 'received', 'Denis']\n",
      "['EUR', 100, 'sent', 'Natalia']\n",
      "['AUS', 200, 'sent', 'Vladimir']\n",
      "['UKR_HRV', 2999, 'received', 'Kate']\n",
      "['RUS', 1000, 'received', 'Denis']\n",
      "['EUR', 100, 'sent', 'Natalia']\n",
      "['AUS', 200, 'sent', 'Vladimir']\n",
      "['UKR_HRV', 2999, 'received', 'Kate']\n",
      "['RUS', 1000, 'received', 'Denis']\n",
      "['EUR', 100, 'sent', 'Natalia']\n",
      "['AUS', 200, 'sent', 'Vladimir']\n",
      "['UKR_HRV', 2999, 'received', 'Kate']\n",
      "['RUS', 1000, 'received', 'Denis']\n",
      "['EUR', 100, 'sent', 'Natalia']\n",
      "['AUS', 200, 'sent', 'Vladimir']\n",
      "['UKR_HRV', 2999, 'received', 'Kate']\n",
      "['RUS', 1000, 'received', 'Denis']\n",
      "['EUR', 100, 'sent', 'Natalia']\n",
      "['AUS', 200, 'sent', 'Vladimir']\n",
      "['UKR_HRV', 2999, 'received', 'Kate']\n",
      "['RUS', 1000, 'received', 'Denis']\n",
      "['EUR', 100, 'sent', 'Natalia']\n",
      "['AUS', 200, 'sent', 'Vladimir']\n",
      "['UKR_HRV', 2999, 'received', 'Kate']\n",
      "['RUS', 1000, 'received', 'Denis']\n",
      "['EUR', 100, 'sent', 'Natalia']\n",
      "['AUS', 200, 'sent', 'Vladimir']\n",
      "['UKR_HRV', 2999, 'received', 'Kate']\n",
      "['RUS', 1000, 'received', 'Denis']\n",
      "['EUR', 100, 'sent', 'Natalia']\n",
      "['AUS', 200, 'sent', 'Vladimir']\n",
      "['UKR_HRV', 2999, 'received', 'Kate']\n",
      "['RUS', 1000, 'received', 'Denis']\n",
      "['EUR', 100, 'sent', 'Natalia']\n",
      "['AUS', 200, 'sent', 'Vladimir']\n",
      "['UKR_HRV', 2999, 'received', 'Kate']\n",
      "['RUS', 1000, 'received', 'Denis']\n"
     ]
    }
   ],
   "source": [
    "current_block = Transactions.head\n",
    "i = 0\n",
    "while current_block is not None:\n",
    "    print('Block ', i)\n",
    "    i += 1\n",
    "    print('Timestamp:', current_block.timestamp)\n",
    "    print('Block information:', str(current_block))\n",
    "    print('Previous hash:',current_block.previous_hash)\n",
    "    print('Current hash:',current_block.hash)\n",
    "    print('---------------------------')\n",
    "\n",
    "    current_block = current_block.next\n",
    "   "
   ]
  },
  {
   "cell_type": "markdown",
   "id": "d242a202",
   "metadata": {},
   "source": [
    "## Blockchain Test Case 3:"
   ]
  },
  {
   "cell_type": "code",
   "execution_count": 20,
   "id": "bf7b0171",
   "metadata": {},
   "outputs": [],
   "source": [
    "Transactions = Blockchain()\n",
    "#data: [currency_name,amount,'sent'/'received', reciever/sender name]\n",
    "current_block = Transactions.head\n",
    "i = 0\n",
    "while current_block is not None:\n",
    "    print('Block ', i)\n",
    "    i += 1\n",
    "    print('Timestamp:', current_block.timestamp)\n",
    "    print('Block information:', str(current_block))\n",
    "    print('Previous hash:',current_block.previous_hash)\n",
    "    print('Current hash:',current_block.hash)\n",
    "    print('---------------------------')\n",
    "\n",
    "    current_block = current_block.next\n"
   ]
  },
  {
   "cell_type": "code",
   "execution_count": null,
   "id": "609076b8",
   "metadata": {},
   "outputs": [],
   "source": []
  },
  {
   "cell_type": "code",
   "execution_count": null,
   "id": "9bd914fc",
   "metadata": {},
   "outputs": [],
   "source": []
  }
 ],
 "metadata": {
  "kernelspec": {
   "display_name": "Python 3 (ipykernel)",
   "language": "python",
   "name": "python3"
  },
  "language_info": {
   "codemirror_mode": {
    "name": "ipython",
    "version": 3
   },
   "file_extension": ".py",
   "mimetype": "text/x-python",
   "name": "python",
   "nbconvert_exporter": "python",
   "pygments_lexer": "ipython3",
   "version": "3.9.7"
  }
 },
 "nbformat": 4,
 "nbformat_minor": 5
}
